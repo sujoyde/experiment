{
 "cells": [
  {
   "cell_type": "code",
   "execution_count": 398,
   "metadata": {
    "collapsed": true
   },
   "outputs": [],
   "source": [
    "import pandas as pd\n",
    "import numpy as np"
   ]
  },
  {
   "cell_type": "code",
   "execution_count": 399,
   "metadata": {
    "collapsed": false
   },
   "outputs": [],
   "source": [
    "data = pd.read_excel(\"data.xlsx\", converters= {'Bill Date': pd.to_datetime})"
   ]
  },
  {
   "cell_type": "code",
   "execution_count": 400,
   "metadata": {
    "collapsed": false
   },
   "outputs": [
    {
     "name": "stdout",
     "output_type": "stream",
     "text": [
      "<class 'pandas.core.frame.DataFrame'>\n",
      "RangeIndex: 1424 entries, 0 to 1423\n",
      "Data columns (total 15 columns):\n",
      "PS NO                         1424 non-null int64\n",
      "Year                          1424 non-null object\n",
      "Request No                    1424 non-null object\n",
      "Component                     1424 non-null object\n",
      "Consultant Name               1424 non-null object\n",
      "Clinic Name                   1424 non-null object\n",
      "Fimily Mgmbgr                 1424 non-null object\n",
      "Nature Of Illness Category    1424 non-null object\n",
      "Bill Date                     1424 non-null datetime64[ns]\n",
      "Bill No.                      1423 non-null object\n",
      "Amount                        1424 non-null int64\n",
      "Status                        1424 non-null object\n",
      "Amount Involved               1424 non-null object\n",
      "Remarks                       1424 non-null object\n",
      "Fudged / Non-fudged           1424 non-null object\n",
      "dtypes: datetime64[ns](1), int64(2), object(12)\n",
      "memory usage: 167.0+ KB\n"
     ]
    }
   ],
   "source": [
    "data.info()"
   ]
  },
  {
   "cell_type": "code",
   "execution_count": 401,
   "metadata": {
    "collapsed": false
   },
   "outputs": [
    {
     "data": {
      "text/html": [
       "<div>\n",
       "<style>\n",
       "    .dataframe thead tr:only-child th {\n",
       "        text-align: right;\n",
       "    }\n",
       "\n",
       "    .dataframe thead th {\n",
       "        text-align: left;\n",
       "    }\n",
       "\n",
       "    .dataframe tbody tr th {\n",
       "        vertical-align: top;\n",
       "    }\n",
       "</style>\n",
       "<table border=\"1\" class=\"dataframe\">\n",
       "  <thead>\n",
       "    <tr style=\"text-align: right;\">\n",
       "      <th></th>\n",
       "      <th>PS NO</th>\n",
       "      <th>Year</th>\n",
       "      <th>Request No</th>\n",
       "      <th>Component</th>\n",
       "      <th>Consultant Name</th>\n",
       "      <th>Clinic Name</th>\n",
       "      <th>Fimily Mgmbgr</th>\n",
       "      <th>Nature Of Illness Category</th>\n",
       "      <th>Bill Date</th>\n",
       "      <th>Bill No.</th>\n",
       "      <th>Amount</th>\n",
       "      <th>Status</th>\n",
       "      <th>Amount Involved</th>\n",
       "      <th>Remarks</th>\n",
       "      <th>Fudged / Non-fudged</th>\n",
       "    </tr>\n",
       "  </thead>\n",
       "  <tbody>\n",
       "    <tr>\n",
       "      <th>0</th>\n",
       "      <td>193058</td>\n",
       "      <td>2016-17</td>\n",
       "      <td>17C01CONS012868</td>\n",
       "      <td>Domiciliary</td>\n",
       "      <td>Dr.Suresh Chandra Mohapatra</td>\n",
       "      <td>Arogya Niketan</td>\n",
       "      <td>Jyoti Rinjin Swiin</td>\n",
       "      <td>UTI</td>\n",
       "      <td>2016-04-09</td>\n",
       "      <td>9746</td>\n",
       "      <td>9746</td>\n",
       "      <td>Processed</td>\n",
       "      <td>9746</td>\n",
       "      <td>Handwriting on prescription and pharmacy bills...</td>\n",
       "      <td>Fudged</td>\n",
       "    </tr>\n",
       "    <tr>\n",
       "      <th>1</th>\n",
       "      <td>193058</td>\n",
       "      <td>2016-17</td>\n",
       "      <td>17C01CONS012863</td>\n",
       "      <td>Domiciliary</td>\n",
       "      <td>Dr.Suresh Chandra Mohapatra</td>\n",
       "      <td>Arogya Niketan</td>\n",
       "      <td>Bhirit Chindri Swiin</td>\n",
       "      <td>Bronchitis</td>\n",
       "      <td>2016-05-05</td>\n",
       "      <td>29846</td>\n",
       "      <td>7653</td>\n",
       "      <td>Processed</td>\n",
       "      <td>7653</td>\n",
       "      <td>Handwriting on prescription and pharmacy bills...</td>\n",
       "      <td>Fudged</td>\n",
       "    </tr>\n",
       "  </tbody>\n",
       "</table>\n",
       "</div>"
      ],
      "text/plain": [
       "    PS NO     Year       Request No    Component              Consultant Name  \\\n",
       "0  193058  2016-17  17C01CONS012868  Domiciliary  Dr.Suresh Chandra Mohapatra   \n",
       "1  193058  2016-17  17C01CONS012863  Domiciliary  Dr.Suresh Chandra Mohapatra   \n",
       "\n",
       "      Clinic Name         Fimily Mgmbgr Nature Of Illness Category  Bill Date  \\\n",
       "0  Arogya Niketan    Jyoti Rinjin Swiin                        UTI 2016-04-09   \n",
       "1  Arogya Niketan  Bhirit Chindri Swiin                 Bronchitis 2016-05-05   \n",
       "\n",
       "  Bill No.  Amount     Status Amount Involved  \\\n",
       "0     9746    9746  Processed            9746   \n",
       "1    29846    7653  Processed            7653   \n",
       "\n",
       "                                             Remarks Fudged / Non-fudged  \n",
       "0  Handwriting on prescription and pharmacy bills...              Fudged  \n",
       "1  Handwriting on prescription and pharmacy bills...              Fudged  "
      ]
     },
     "execution_count": 401,
     "metadata": {},
     "output_type": "execute_result"
    }
   ],
   "source": [
    "data.head(2)"
   ]
  },
  {
   "cell_type": "code",
   "execution_count": 402,
   "metadata": {
    "collapsed": false
   },
   "outputs": [
    {
     "data": {
      "text/plain": [
       "Domiciliary     892\n",
       "DOMICILIARY     449\n",
       "Dental           34\n",
       "DENTAL           19\n",
       "Spectacle        18\n",
       "SPECTACLE        10\n",
       "Gluco Meter       1\n",
       "Domiciliary       1\n",
       "Name: Component, dtype: int64"
      ]
     },
     "execution_count": 402,
     "metadata": {},
     "output_type": "execute_result"
    }
   ],
   "source": [
    "data['Component'].value_counts()"
   ]
  },
  {
   "cell_type": "code",
   "execution_count": 403,
   "metadata": {
    "collapsed": false
   },
   "outputs": [],
   "source": [
    "data['Component'] = data['Component'].str.lower()"
   ]
  },
  {
   "cell_type": "code",
   "execution_count": 404,
   "metadata": {
    "collapsed": false
   },
   "outputs": [
    {
     "data": {
      "text/plain": [
       "domiciliary     1341\n",
       "dental            53\n",
       "spectacle         28\n",
       "domiciliary        1\n",
       "gluco meter        1\n",
       "Name: Component, dtype: int64"
      ]
     },
     "execution_count": 404,
     "metadata": {},
     "output_type": "execute_result"
    }
   ],
   "source": [
    "data['Component'].value_counts()"
   ]
  },
  {
   "cell_type": "code",
   "execution_count": 405,
   "metadata": {
    "collapsed": false
   },
   "outputs": [],
   "source": [
    "data['Consultant Name'] = data['Consultant Name'].str.lower()\n",
    "data['Clinic Name'] = data['Clinic Name'].str.lower()\n",
    "data['Nature Of Illness Category'] = data['Nature Of Illness Category'].str.lower()"
   ]
  },
  {
   "cell_type": "code",
   "execution_count": 406,
   "metadata": {
    "collapsed": false
   },
   "outputs": [
    {
     "data": {
      "text/html": [
       "<div>\n",
       "<style>\n",
       "    .dataframe thead tr:only-child th {\n",
       "        text-align: right;\n",
       "    }\n",
       "\n",
       "    .dataframe thead th {\n",
       "        text-align: left;\n",
       "    }\n",
       "\n",
       "    .dataframe tbody tr th {\n",
       "        vertical-align: top;\n",
       "    }\n",
       "</style>\n",
       "<table border=\"1\" class=\"dataframe\">\n",
       "  <thead>\n",
       "    <tr style=\"text-align: right;\">\n",
       "      <th></th>\n",
       "      <th>PS NO</th>\n",
       "      <th>Year</th>\n",
       "      <th>Request No</th>\n",
       "      <th>Component</th>\n",
       "      <th>Consultant Name</th>\n",
       "      <th>Clinic Name</th>\n",
       "      <th>Fimily Mgmbgr</th>\n",
       "      <th>Nature Of Illness Category</th>\n",
       "      <th>Bill Date</th>\n",
       "      <th>Bill No.</th>\n",
       "      <th>Amount</th>\n",
       "      <th>Status</th>\n",
       "      <th>Amount Involved</th>\n",
       "      <th>Remarks</th>\n",
       "      <th>Fudged / Non-fudged</th>\n",
       "    </tr>\n",
       "  </thead>\n",
       "  <tbody>\n",
       "    <tr>\n",
       "      <th>0</th>\n",
       "      <td>193058</td>\n",
       "      <td>2016-17</td>\n",
       "      <td>17C01CONS012868</td>\n",
       "      <td>domiciliary</td>\n",
       "      <td>dr.suresh chandra mohapatra</td>\n",
       "      <td>arogya niketan</td>\n",
       "      <td>Jyoti Rinjin Swiin</td>\n",
       "      <td>uti</td>\n",
       "      <td>2016-04-09</td>\n",
       "      <td>9746</td>\n",
       "      <td>9746</td>\n",
       "      <td>Processed</td>\n",
       "      <td>9746</td>\n",
       "      <td>Handwriting on prescription and pharmacy bills...</td>\n",
       "      <td>Fudged</td>\n",
       "    </tr>\n",
       "    <tr>\n",
       "      <th>1</th>\n",
       "      <td>193058</td>\n",
       "      <td>2016-17</td>\n",
       "      <td>17C01CONS012863</td>\n",
       "      <td>domiciliary</td>\n",
       "      <td>dr.suresh chandra mohapatra</td>\n",
       "      <td>arogya niketan</td>\n",
       "      <td>Bhirit Chindri Swiin</td>\n",
       "      <td>bronchitis</td>\n",
       "      <td>2016-05-05</td>\n",
       "      <td>29846</td>\n",
       "      <td>7653</td>\n",
       "      <td>Processed</td>\n",
       "      <td>7653</td>\n",
       "      <td>Handwriting on prescription and pharmacy bills...</td>\n",
       "      <td>Fudged</td>\n",
       "    </tr>\n",
       "  </tbody>\n",
       "</table>\n",
       "</div>"
      ],
      "text/plain": [
       "    PS NO     Year       Request No    Component              Consultant Name  \\\n",
       "0  193058  2016-17  17C01CONS012868  domiciliary  dr.suresh chandra mohapatra   \n",
       "1  193058  2016-17  17C01CONS012863  domiciliary  dr.suresh chandra mohapatra   \n",
       "\n",
       "      Clinic Name         Fimily Mgmbgr Nature Of Illness Category  Bill Date  \\\n",
       "0  arogya niketan    Jyoti Rinjin Swiin                        uti 2016-04-09   \n",
       "1  arogya niketan  Bhirit Chindri Swiin                 bronchitis 2016-05-05   \n",
       "\n",
       "  Bill No.  Amount     Status Amount Involved  \\\n",
       "0     9746    9746  Processed            9746   \n",
       "1    29846    7653  Processed            7653   \n",
       "\n",
       "                                             Remarks Fudged / Non-fudged  \n",
       "0  Handwriting on prescription and pharmacy bills...              Fudged  \n",
       "1  Handwriting on prescription and pharmacy bills...              Fudged  "
      ]
     },
     "execution_count": 406,
     "metadata": {},
     "output_type": "execute_result"
    }
   ],
   "source": [
    "data.head(2)"
   ]
  },
  {
   "cell_type": "code",
   "execution_count": 407,
   "metadata": {
    "collapsed": false
   },
   "outputs": [
    {
     "data": {
      "text/html": [
       "<div>\n",
       "<style>\n",
       "    .dataframe thead tr:only-child th {\n",
       "        text-align: right;\n",
       "    }\n",
       "\n",
       "    .dataframe thead th {\n",
       "        text-align: left;\n",
       "    }\n",
       "\n",
       "    .dataframe tbody tr th {\n",
       "        vertical-align: top;\n",
       "    }\n",
       "</style>\n",
       "<table border=\"1\" class=\"dataframe\">\n",
       "  <thead>\n",
       "    <tr style=\"text-align: right;\">\n",
       "      <th></th>\n",
       "      <th>PS NO</th>\n",
       "      <th>Clinic Name</th>\n",
       "      <th>count</th>\n",
       "    </tr>\n",
       "  </thead>\n",
       "  <tbody>\n",
       "    <tr>\n",
       "      <th>0</th>\n",
       "      <td>82349</td>\n",
       "      <td>d.elangoan , b.sc.,  d.opt. p m o a, eye consu...</td>\n",
       "      <td>2</td>\n",
       "    </tr>\n",
       "    <tr>\n",
       "      <th>1</th>\n",
       "      <td>82349</td>\n",
       "      <td>dr. ajay sinha, md and dr.atul ahuja ent</td>\n",
       "      <td>8</td>\n",
       "    </tr>\n",
       "  </tbody>\n",
       "</table>\n",
       "</div>"
      ],
      "text/plain": [
       "   PS NO                                        Clinic Name  count\n",
       "0  82349  d.elangoan , b.sc.,  d.opt. p m o a, eye consu...      2\n",
       "1  82349           dr. ajay sinha, md and dr.atul ahuja ent      8"
      ]
     },
     "execution_count": 407,
     "metadata": {},
     "output_type": "execute_result"
    }
   ],
   "source": [
    "clause2 = pd.DataFrame()\n",
    "clause2['count'] = data.groupby(['PS NO', 'Clinic Name'])['Clinic Name'].count()\n",
    "clause2 = clause2.reset_index()\n",
    "clause2.head(2)"
   ]
  },
  {
   "cell_type": "code",
   "execution_count": 408,
   "metadata": {
    "collapsed": false
   },
   "outputs": [
    {
     "data": {
      "text/html": [
       "<div>\n",
       "<style>\n",
       "    .dataframe thead tr:only-child th {\n",
       "        text-align: right;\n",
       "    }\n",
       "\n",
       "    .dataframe thead th {\n",
       "        text-align: left;\n",
       "    }\n",
       "\n",
       "    .dataframe tbody tr th {\n",
       "        vertical-align: top;\n",
       "    }\n",
       "</style>\n",
       "<table border=\"1\" class=\"dataframe\">\n",
       "  <thead>\n",
       "    <tr style=\"text-align: right;\">\n",
       "      <th></th>\n",
       "      <th>PS NO</th>\n",
       "      <th>Year</th>\n",
       "      <th>Request No</th>\n",
       "      <th>Component</th>\n",
       "      <th>Consultant Name</th>\n",
       "      <th>Clinic Name</th>\n",
       "      <th>Fimily Mgmbgr</th>\n",
       "      <th>Nature Of Illness Category</th>\n",
       "      <th>Bill Date</th>\n",
       "      <th>Bill No.</th>\n",
       "      <th>Amount</th>\n",
       "      <th>Status</th>\n",
       "      <th>Amount Involved</th>\n",
       "      <th>Remarks</th>\n",
       "      <th>Fudged / Non-fudged</th>\n",
       "    </tr>\n",
       "  </thead>\n",
       "  <tbody>\n",
       "    <tr>\n",
       "      <th>0</th>\n",
       "      <td>193058</td>\n",
       "      <td>2016-17</td>\n",
       "      <td>17C01CONS012868</td>\n",
       "      <td>domiciliary</td>\n",
       "      <td>dr.suresh chandra mohapatra</td>\n",
       "      <td>arogya niketan</td>\n",
       "      <td>Jyoti Rinjin Swiin</td>\n",
       "      <td>uti</td>\n",
       "      <td>2016-04-09</td>\n",
       "      <td>9746</td>\n",
       "      <td>9746</td>\n",
       "      <td>Processed</td>\n",
       "      <td>9746</td>\n",
       "      <td>Handwriting on prescription and pharmacy bills...</td>\n",
       "      <td>Fudged</td>\n",
       "    </tr>\n",
       "    <tr>\n",
       "      <th>1</th>\n",
       "      <td>193058</td>\n",
       "      <td>2016-17</td>\n",
       "      <td>17C01CONS012863</td>\n",
       "      <td>domiciliary</td>\n",
       "      <td>dr.suresh chandra mohapatra</td>\n",
       "      <td>arogya niketan</td>\n",
       "      <td>Bhirit Chindri Swiin</td>\n",
       "      <td>bronchitis</td>\n",
       "      <td>2016-05-05</td>\n",
       "      <td>29846</td>\n",
       "      <td>7653</td>\n",
       "      <td>Processed</td>\n",
       "      <td>7653</td>\n",
       "      <td>Handwriting on prescription and pharmacy bills...</td>\n",
       "      <td>Fudged</td>\n",
       "    </tr>\n",
       "  </tbody>\n",
       "</table>\n",
       "</div>"
      ],
      "text/plain": [
       "    PS NO     Year       Request No    Component              Consultant Name  \\\n",
       "0  193058  2016-17  17C01CONS012868  domiciliary  dr.suresh chandra mohapatra   \n",
       "1  193058  2016-17  17C01CONS012863  domiciliary  dr.suresh chandra mohapatra   \n",
       "\n",
       "      Clinic Name         Fimily Mgmbgr Nature Of Illness Category  Bill Date  \\\n",
       "0  arogya niketan    Jyoti Rinjin Swiin                        uti 2016-04-09   \n",
       "1  arogya niketan  Bhirit Chindri Swiin                 bronchitis 2016-05-05   \n",
       "\n",
       "  Bill No.  Amount     Status Amount Involved  \\\n",
       "0     9746    9746  Processed            9746   \n",
       "1    29846    7653  Processed            7653   \n",
       "\n",
       "                                             Remarks Fudged / Non-fudged  \n",
       "0  Handwriting on prescription and pharmacy bills...              Fudged  \n",
       "1  Handwriting on prescription and pharmacy bills...              Fudged  "
      ]
     },
     "execution_count": 408,
     "metadata": {},
     "output_type": "execute_result"
    }
   ],
   "source": [
    "data.head(2)"
   ]
  },
  {
   "cell_type": "code",
   "execution_count": 409,
   "metadata": {
    "collapsed": false
   },
   "outputs": [
    {
     "data": {
      "text/html": [
       "<div>\n",
       "<style>\n",
       "    .dataframe thead tr:only-child th {\n",
       "        text-align: right;\n",
       "    }\n",
       "\n",
       "    .dataframe thead th {\n",
       "        text-align: left;\n",
       "    }\n",
       "\n",
       "    .dataframe tbody tr th {\n",
       "        vertical-align: top;\n",
       "    }\n",
       "</style>\n",
       "<table border=\"1\" class=\"dataframe\">\n",
       "  <thead>\n",
       "    <tr style=\"text-align: right;\">\n",
       "      <th></th>\n",
       "      <th>PS NO</th>\n",
       "      <th>Nature Of Illness Category</th>\n",
       "      <th>Fimily Mgmbgr</th>\n",
       "    </tr>\n",
       "  </thead>\n",
       "  <tbody>\n",
       "    <tr>\n",
       "      <th>0</th>\n",
       "      <td>82349</td>\n",
       "      <td>anemic ,polycistic  and mensural depression</td>\n",
       "      <td>4</td>\n",
       "    </tr>\n",
       "    <tr>\n",
       "      <th>1</th>\n",
       "      <td>82349</td>\n",
       "      <td>anosmia and urinal bacterial infection</td>\n",
       "      <td>2</td>\n",
       "    </tr>\n",
       "    <tr>\n",
       "      <th>2</th>\n",
       "      <td>82349</td>\n",
       "      <td>back pain</td>\n",
       "      <td>2</td>\n",
       "    </tr>\n",
       "    <tr>\n",
       "      <th>3</th>\n",
       "      <td>82349</td>\n",
       "      <td>back pain and climaxes problem</td>\n",
       "      <td>1</td>\n",
       "    </tr>\n",
       "    <tr>\n",
       "      <th>4</th>\n",
       "      <td>82349</td>\n",
       "      <td>back pain l4 and spondilitis</td>\n",
       "      <td>2</td>\n",
       "    </tr>\n",
       "    <tr>\n",
       "      <th>5</th>\n",
       "      <td>82349</td>\n",
       "      <td>bloaling of abdomen , diarrhea and sinunitis</td>\n",
       "      <td>1</td>\n",
       "    </tr>\n",
       "    <tr>\n",
       "      <th>6</th>\n",
       "      <td>82349</td>\n",
       "      <td>blood pressure  &amp; rheumatic pain</td>\n",
       "      <td>6</td>\n",
       "    </tr>\n",
       "    <tr>\n",
       "      <th>7</th>\n",
       "      <td>82349</td>\n",
       "      <td>body pain and jaundice bilurubbin</td>\n",
       "      <td>2</td>\n",
       "    </tr>\n",
       "    <tr>\n",
       "      <th>8</th>\n",
       "      <td>82349</td>\n",
       "      <td>diabetic</td>\n",
       "      <td>11</td>\n",
       "    </tr>\n",
       "    <tr>\n",
       "      <th>9</th>\n",
       "      <td>82349</td>\n",
       "      <td>diabetic and prostate specific antigen problem</td>\n",
       "      <td>1</td>\n",
       "    </tr>\n",
       "  </tbody>\n",
       "</table>\n",
       "</div>"
      ],
      "text/plain": [
       "   PS NO                      Nature Of Illness Category  Fimily Mgmbgr\n",
       "0  82349     anemic ,polycistic  and mensural depression              4\n",
       "1  82349          anosmia and urinal bacterial infection              2\n",
       "2  82349                                       back pain              2\n",
       "3  82349                  back pain and climaxes problem              1\n",
       "4  82349                    back pain l4 and spondilitis              2\n",
       "5  82349    bloaling of abdomen , diarrhea and sinunitis              1\n",
       "6  82349                blood pressure  & rheumatic pain              6\n",
       "7  82349               body pain and jaundice bilurubbin              2\n",
       "8  82349                                        diabetic             11\n",
       "9  82349  diabetic and prostate specific antigen problem              1"
      ]
     },
     "execution_count": 409,
     "metadata": {},
     "output_type": "execute_result"
    }
   ],
   "source": [
    "clause4 = pd.DataFrame()\n",
    "clause4 = data.groupby(['PS NO','Nature Of Illness Category'])['Fimily Mgmbgr'].count()\n",
    "clause4 = clause4.reset_index()\n",
    "clause4.head(10)"
   ]
  },
  {
   "cell_type": "code",
   "execution_count": 410,
   "metadata": {
    "collapsed": true
   },
   "outputs": [],
   "source": [
    "data['Bill Name'] = pd.to_datetime(data['Bill Date'], format = '%y%m%d')"
   ]
  },
  {
   "cell_type": "code",
   "execution_count": 411,
   "metadata": {
    "collapsed": false
   },
   "outputs": [
    {
     "data": {
      "text/html": [
       "<div>\n",
       "<style>\n",
       "    .dataframe thead tr:only-child th {\n",
       "        text-align: right;\n",
       "    }\n",
       "\n",
       "    .dataframe thead th {\n",
       "        text-align: left;\n",
       "    }\n",
       "\n",
       "    .dataframe tbody tr th {\n",
       "        vertical-align: top;\n",
       "    }\n",
       "</style>\n",
       "<table border=\"1\" class=\"dataframe\">\n",
       "  <thead>\n",
       "    <tr style=\"text-align: right;\">\n",
       "      <th></th>\n",
       "      <th>PS NO</th>\n",
       "      <th>Bill Date</th>\n",
       "      <th>Consultant Name</th>\n",
       "    </tr>\n",
       "  </thead>\n",
       "  <tbody>\n",
       "    <tr>\n",
       "      <th>0</th>\n",
       "      <td>82349</td>\n",
       "      <td>2016-04-09</td>\n",
       "      <td>4</td>\n",
       "    </tr>\n",
       "    <tr>\n",
       "      <th>1</th>\n",
       "      <td>82349</td>\n",
       "      <td>2016-04-22</td>\n",
       "      <td>1</td>\n",
       "    </tr>\n",
       "    <tr>\n",
       "      <th>2</th>\n",
       "      <td>82349</td>\n",
       "      <td>2016-04-26</td>\n",
       "      <td>4</td>\n",
       "    </tr>\n",
       "    <tr>\n",
       "      <th>3</th>\n",
       "      <td>82349</td>\n",
       "      <td>2016-04-30</td>\n",
       "      <td>1</td>\n",
       "    </tr>\n",
       "    <tr>\n",
       "      <th>4</th>\n",
       "      <td>82349</td>\n",
       "      <td>2016-05-20</td>\n",
       "      <td>5</td>\n",
       "    </tr>\n",
       "  </tbody>\n",
       "</table>\n",
       "</div>"
      ],
      "text/plain": [
       "   PS NO  Bill Date  Consultant Name\n",
       "0  82349 2016-04-09                4\n",
       "1  82349 2016-04-22                1\n",
       "2  82349 2016-04-26                4\n",
       "3  82349 2016-04-30                1\n",
       "4  82349 2016-05-20                5"
      ]
     },
     "execution_count": 411,
     "metadata": {},
     "output_type": "execute_result"
    }
   ],
   "source": [
    "data.groupby(['PS NO','Bill Date'])['Consultant Name'].count().reset_index().head(5)"
   ]
  },
  {
   "cell_type": "code",
   "execution_count": 412,
   "metadata": {
    "collapsed": true
   },
   "outputs": [],
   "source": [
    "data['year'] = data['Bill Date'].dt.year\n",
    "data['month'] = data['Bill Date'].dt.month\n",
    "data['day'] = data['Bill Date'].dt.day"
   ]
  },
  {
   "cell_type": "code",
   "execution_count": 413,
   "metadata": {
    "collapsed": false
   },
   "outputs": [
    {
     "data": {
      "text/html": [
       "<div>\n",
       "<style>\n",
       "    .dataframe thead tr:only-child th {\n",
       "        text-align: right;\n",
       "    }\n",
       "\n",
       "    .dataframe thead th {\n",
       "        text-align: left;\n",
       "    }\n",
       "\n",
       "    .dataframe tbody tr th {\n",
       "        vertical-align: top;\n",
       "    }\n",
       "</style>\n",
       "<table border=\"1\" class=\"dataframe\">\n",
       "  <thead>\n",
       "    <tr style=\"text-align: right;\">\n",
       "      <th></th>\n",
       "      <th>PS NO</th>\n",
       "      <th>Year</th>\n",
       "      <th>Request No</th>\n",
       "      <th>Component</th>\n",
       "      <th>Consultant Name</th>\n",
       "      <th>Clinic Name</th>\n",
       "      <th>Fimily Mgmbgr</th>\n",
       "      <th>Nature Of Illness Category</th>\n",
       "      <th>Bill Date</th>\n",
       "      <th>Bill No.</th>\n",
       "      <th>Amount</th>\n",
       "      <th>Status</th>\n",
       "      <th>Amount Involved</th>\n",
       "      <th>Remarks</th>\n",
       "      <th>Fudged / Non-fudged</th>\n",
       "      <th>Bill Name</th>\n",
       "      <th>year</th>\n",
       "      <th>month</th>\n",
       "      <th>day</th>\n",
       "    </tr>\n",
       "  </thead>\n",
       "  <tbody>\n",
       "    <tr>\n",
       "      <th>0</th>\n",
       "      <td>193058</td>\n",
       "      <td>2016-17</td>\n",
       "      <td>17C01CONS012868</td>\n",
       "      <td>domiciliary</td>\n",
       "      <td>dr.suresh chandra mohapatra</td>\n",
       "      <td>arogya niketan</td>\n",
       "      <td>Jyoti Rinjin Swiin</td>\n",
       "      <td>uti</td>\n",
       "      <td>2016-04-09</td>\n",
       "      <td>9746</td>\n",
       "      <td>9746</td>\n",
       "      <td>Processed</td>\n",
       "      <td>9746</td>\n",
       "      <td>Handwriting on prescription and pharmacy bills...</td>\n",
       "      <td>Fudged</td>\n",
       "      <td>2016-04-09</td>\n",
       "      <td>2016</td>\n",
       "      <td>4</td>\n",
       "      <td>9</td>\n",
       "    </tr>\n",
       "    <tr>\n",
       "      <th>1</th>\n",
       "      <td>193058</td>\n",
       "      <td>2016-17</td>\n",
       "      <td>17C01CONS012863</td>\n",
       "      <td>domiciliary</td>\n",
       "      <td>dr.suresh chandra mohapatra</td>\n",
       "      <td>arogya niketan</td>\n",
       "      <td>Bhirit Chindri Swiin</td>\n",
       "      <td>bronchitis</td>\n",
       "      <td>2016-05-05</td>\n",
       "      <td>29846</td>\n",
       "      <td>7653</td>\n",
       "      <td>Processed</td>\n",
       "      <td>7653</td>\n",
       "      <td>Handwriting on prescription and pharmacy bills...</td>\n",
       "      <td>Fudged</td>\n",
       "      <td>2016-05-05</td>\n",
       "      <td>2016</td>\n",
       "      <td>5</td>\n",
       "      <td>5</td>\n",
       "    </tr>\n",
       "  </tbody>\n",
       "</table>\n",
       "</div>"
      ],
      "text/plain": [
       "    PS NO     Year       Request No    Component              Consultant Name  \\\n",
       "0  193058  2016-17  17C01CONS012868  domiciliary  dr.suresh chandra mohapatra   \n",
       "1  193058  2016-17  17C01CONS012863  domiciliary  dr.suresh chandra mohapatra   \n",
       "\n",
       "      Clinic Name         Fimily Mgmbgr Nature Of Illness Category  Bill Date  \\\n",
       "0  arogya niketan    Jyoti Rinjin Swiin                        uti 2016-04-09   \n",
       "1  arogya niketan  Bhirit Chindri Swiin                 bronchitis 2016-05-05   \n",
       "\n",
       "  Bill No.  Amount     Status Amount Involved  \\\n",
       "0     9746    9746  Processed            9746   \n",
       "1    29846    7653  Processed            7653   \n",
       "\n",
       "                                             Remarks Fudged / Non-fudged  \\\n",
       "0  Handwriting on prescription and pharmacy bills...              Fudged   \n",
       "1  Handwriting on prescription and pharmacy bills...              Fudged   \n",
       "\n",
       "   Bill Name  year  month  day  \n",
       "0 2016-04-09  2016      4    9  \n",
       "1 2016-05-05  2016      5    5  "
      ]
     },
     "execution_count": 413,
     "metadata": {},
     "output_type": "execute_result"
    }
   ],
   "source": [
    "data.head(2)"
   ]
  },
  {
   "cell_type": "code",
   "execution_count": 414,
   "metadata": {
    "collapsed": false,
    "scrolled": true
   },
   "outputs": [
    {
     "data": {
      "text/plain": [
       "2016    1358\n",
       "2017      59\n",
       "2015       6\n",
       "1916       1\n",
       "Name: year, dtype: int64"
      ]
     },
     "execution_count": 414,
     "metadata": {},
     "output_type": "execute_result"
    }
   ],
   "source": [
    "data['year'].value_counts()"
   ]
  },
  {
   "cell_type": "code",
   "execution_count": 418,
   "metadata": {
    "collapsed": false,
    "scrolled": false
   },
   "outputs": [
    {
     "data": {
      "text/html": [
       "<div>\n",
       "<style>\n",
       "    .dataframe thead tr:only-child th {\n",
       "        text-align: right;\n",
       "    }\n",
       "\n",
       "    .dataframe thead th {\n",
       "        text-align: left;\n",
       "    }\n",
       "\n",
       "    .dataframe tbody tr th {\n",
       "        vertical-align: top;\n",
       "    }\n",
       "</style>\n",
       "<table border=\"1\" class=\"dataframe\">\n",
       "  <thead>\n",
       "    <tr style=\"text-align: right;\">\n",
       "      <th></th>\n",
       "      <th>PS NO</th>\n",
       "      <th>year</th>\n",
       "      <th>Year</th>\n",
       "    </tr>\n",
       "  </thead>\n",
       "  <tbody>\n",
       "    <tr>\n",
       "      <th>16</th>\n",
       "      <td>333848</td>\n",
       "      <td>2016</td>\n",
       "      <td>93</td>\n",
       "    </tr>\n",
       "    <tr>\n",
       "      <th>57</th>\n",
       "      <td>20066182</td>\n",
       "      <td>2016</td>\n",
       "      <td>90</td>\n",
       "    </tr>\n",
       "    <tr>\n",
       "      <th>17</th>\n",
       "      <td>333859</td>\n",
       "      <td>2016</td>\n",
       "      <td>67</td>\n",
       "    </tr>\n",
       "    <tr>\n",
       "      <th>8</th>\n",
       "      <td>184648</td>\n",
       "      <td>2016</td>\n",
       "      <td>62</td>\n",
       "    </tr>\n",
       "    <tr>\n",
       "      <th>5</th>\n",
       "      <td>122898</td>\n",
       "      <td>2016</td>\n",
       "      <td>60</td>\n",
       "    </tr>\n",
       "  </tbody>\n",
       "</table>\n",
       "</div>"
      ],
      "text/plain": [
       "       PS NO  year  Year\n",
       "16    333848  2016    93\n",
       "57  20066182  2016    90\n",
       "17    333859  2016    67\n",
       "8     184648  2016    62\n",
       "5     122898  2016    60"
      ]
     },
     "execution_count": 418,
     "metadata": {},
     "output_type": "execute_result"
    }
   ],
   "source": [
    "data.groupby(['PS NO','year'])['Year'].count().reset_index().sort_values(by = 'Year', ascending=False).head()"
   ]
  },
  {
   "cell_type": "code",
   "execution_count": 428,
   "metadata": {
    "collapsed": false
   },
   "outputs": [
    {
     "data": {
      "text/html": [
       "<div>\n",
       "<style>\n",
       "    .dataframe thead tr:only-child th {\n",
       "        text-align: right;\n",
       "    }\n",
       "\n",
       "    .dataframe thead th {\n",
       "        text-align: left;\n",
       "    }\n",
       "\n",
       "    .dataframe tbody tr th {\n",
       "        vertical-align: top;\n",
       "    }\n",
       "</style>\n",
       "<table border=\"1\" class=\"dataframe\">\n",
       "  <thead>\n",
       "    <tr style=\"text-align: right;\">\n",
       "      <th></th>\n",
       "      <th>PS NO</th>\n",
       "      <th>Consultant Name</th>\n",
       "      <th>day</th>\n",
       "      <th>year</th>\n",
       "    </tr>\n",
       "  </thead>\n",
       "  <tbody>\n",
       "    <tr>\n",
       "      <th>0</th>\n",
       "      <td>82349</td>\n",
       "      <td>apollo hospital - chennai</td>\n",
       "      <td>8</td>\n",
       "      <td>1</td>\n",
       "    </tr>\n",
       "    <tr>\n",
       "      <th>1</th>\n",
       "      <td>82349</td>\n",
       "      <td>apollo pharmacy - nurse station</td>\n",
       "      <td>8</td>\n",
       "      <td>1</td>\n",
       "    </tr>\n",
       "  </tbody>\n",
       "</table>\n",
       "</div>"
      ],
      "text/plain": [
       "   PS NO                  Consultant Name  day  year\n",
       "0  82349        apollo hospital - chennai    8     1\n",
       "1  82349  apollo pharmacy - nurse station    8     1"
      ]
     },
     "execution_count": 428,
     "metadata": {},
     "output_type": "execute_result"
    }
   ],
   "source": [
    "clause3 = pd.DataFrame()\n",
    "clause3 = data.groupby(['PS NO','Consultant Name','day'])['year'].count().reset_index()\n",
    "clause3.head(2)"
   ]
  },
  {
   "cell_type": "code",
   "execution_count": null,
   "metadata": {
    "collapsed": true
   },
   "outputs": [],
   "source": []
  }
 ],
 "metadata": {
  "kernelspec": {
   "display_name": "Python 3",
   "language": "python",
   "name": "python3"
  },
  "language_info": {
   "codemirror_mode": {
    "name": "ipython",
    "version": 3
   },
   "file_extension": ".py",
   "mimetype": "text/x-python",
   "name": "python",
   "nbconvert_exporter": "python",
   "pygments_lexer": "ipython3",
   "version": "3.6.0"
  }
 },
 "nbformat": 4,
 "nbformat_minor": 2
}
